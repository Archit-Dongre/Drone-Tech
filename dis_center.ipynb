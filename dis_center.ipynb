{
 "cells": [
  {
   "cell_type": "code",
   "execution_count": 142,
   "metadata": {},
   "outputs": [
    {
     "name": "stdout",
     "output_type": "stream",
     "text": [
      "Number of Contours found = 12\n"
     ]
    }
   ],
   "source": [
    "import cv2 \n",
    "import numpy as np \n",
    "import imutils\n",
    "# Let's load a simple image with 3 black squares \n",
    "image = cv2.imread('image.png') \n",
    "cv2.waitKey(0) \n",
    "\n",
    "# Grayscale \n",
    "gray = cv2.cvtColor(image, cv2.COLOR_BGR2GRAY) \n",
    "\n",
    "# Find Canny edges \n",
    "edged = cv2.Canny(gray, 30, 200) \n",
    "cv2.waitKey(0) \n",
    "\n",
    "# Finding Contours \n",
    "# Use a copy of the image e.g. edged.copy() \n",
    "# since findContours alters the image \n",
    "contours, hierarchy = cv2.findContours(edged, \n",
    "\tcv2.RETR_EXTERNAL, cv2.CHAIN_APPROX_NONE) \n",
    "\n",
    "cv2.imshow('Canny Edges After Contouring', edged) \n",
    "cv2.waitKey(0) \n",
    "\n",
    "print(\"Number of Contours found = \" + str(len(contours))) \n",
    "\n",
    "# Draw all contours \n",
    "# -1 signifies drawing all contours \n",
    "cv2.drawContours(image, contours, -1, (0, 0, 255), 3) \n",
    "\n",
    "cv2.imshow('Contours', image) \n",
    "cv2.waitKey(0) \n",
    "cv2.destroyAllWindows() \n"
   ]
  },
  {
   "cell_type": "code",
   "execution_count": 144,
   "metadata": {},
   "outputs": [
    {
     "name": "stdout",
     "output_type": "stream",
     "text": [
      "229 214\n",
      "156 149\n",
      "111 155\n",
      "216 35\n"
     ]
    }
   ],
   "source": [
    "gray = cv2.cvtColor(image, cv2.COLOR_BGR2GRAY)\n",
    "blurred = cv2.GaussianBlur(gray, (5, 5), 0)\n",
    "thresh = cv2.threshold(blurred, 60, 255, cv2.THRESH_BINARY_INV)[1]\n",
    "cnts = cv2.findContours(thresh.copy(), cv2.RETR_EXTERNAL,cv2.CHAIN_APPROX_SIMPLE)\n",
    "cnts = imutils.grab_contours(cnts)\n",
    "#print(cnts)\n",
    "max=0\n",
    "for c in cnts:\n",
    "    if len(c)>max:\n",
    "        max=len(c)\n",
    "        M = cv2.moments(c)\n",
    "        cX = int(M[\"m10\"] / (M[\"m00\"] ))\n",
    "        cY = int(M[\"m01\"] / (M[\"m00\"]))\n",
    "    #print(len(c))\n",
    "    # compute the center of the contour\n",
    "    \n",
    "        print(cX,cY)\n",
    "cv2.circle(image, (int(cX), int(cY)), 5, (255, 0, 0), -1)\n",
    "cv2.imshow('Contours', image) \n",
    "cv2.waitKey(0) \n",
    "cv2.destroyAllWindows() "
   ]
  },
  {
   "cell_type": "code",
   "execution_count": 86,
   "metadata": {},
   "outputs": [
    {
     "data": {
      "text/plain": [
       "'cv2.imshow(\"contour\",image)\\ncv2.waitKey()\\ncv2.destroyAllWindows()\\nret,thresh = cv2.threshold(image,100,255,cv2.THRESH_BINARY_INV)\\ncv2.imshow(\"contour\",thresh1)\\ncv2.waitKey()\\ncv2.destroyAllWindows()\\n\\nimage[thresh!= 0]= 250\\n\\nkernel=cv2.getStructuringElement(cv2.MORPH_ELLIPSE,(5,5))\\nerosion= cv2.erode(image,kernel,iterations=1)\\ncv2.imshow(\"ero\",erosion)\\ncv2.waitKey()\\ncv2.destroyAllWindows()\\ncnts = imutils.grab_contours(erosion)'"
      ]
     },
     "execution_count": 86,
     "metadata": {},
     "output_type": "execute_result"
    }
   ],
   "source": [
    "\"\"\"cv2.imshow(\"contour\",image)\n",
    "cv2.waitKey()\n",
    "cv2.destroyAllWindows()\n",
    "ret,thresh = cv2.threshold(image,100,255,cv2.THRESH_BINARY_INV)\n",
    "cv2.imshow(\"contour\",thresh1)\n",
    "cv2.waitKey()\n",
    "cv2.destroyAllWindows()\n",
    "\n",
    "image[thresh!= 0]= 250\n",
    "\n",
    "kernel=cv2.getStructuringElement(cv2.MORPH_ELLIPSE,(5,5))\n",
    "erosion= cv2.erode(image,kernel,iterations=1)\n",
    "cv2.imshow(\"ero\",erosion)\n",
    "cv2.waitKey()\n",
    "cv2.destroyAllWindows()\n",
    "cnts = imutils.grab_contours(erosion)\"\"\""
   ]
  },
  {
   "cell_type": "code",
   "execution_count": 87,
   "metadata": {},
   "outputs": [
    {
     "data": {
      "text/plain": [
       "'for c in cnts:\\n    # compute the center of the contour\\n        M = cv2.moments(c)\\n        cX = int(M[\"m10\"] / M[\"m00\"])\\n        cY = int(M[\"m01\"] / M[\"m00\"])\\n        \\ncv2.circle(erosion, (int(cX), int(cY)), 5, (255, 0, 0), -1)\\ncv2.imshow(\\'Contours\\', erosion) \\ncv2.waitKey(0) \\ncv2.destroyAllWindows() \\n        '"
      ]
     },
     "execution_count": 87,
     "metadata": {},
     "output_type": "execute_result"
    }
   ],
   "source": [
    "\"\"\"for c in cnts:\n",
    "    # compute the center of the contour\n",
    "        M = cv2.moments(c)\n",
    "        cX = int(M[\"m10\"] / M[\"m00\"])\n",
    "        cY = int(M[\"m01\"] / M[\"m00\"])\n",
    "        \n",
    "cv2.circle(erosion, (int(cX), int(cY)), 5, (255, 0, 0), -1)\n",
    "cv2.imshow('Contours', erosion) \n",
    "cv2.waitKey(0) \n",
    "cv2.destroyAllWindows() \n",
    "        \"\"\""
   ]
  },
  {
   "cell_type": "code",
   "execution_count": 59,
   "metadata": {},
   "outputs": [],
   "source": [
    "xs=[]\n",
    "ys=[]\n",
    "c=0\n",
    "for x in range(len(image)):\n",
    "    for y in range(len(image[x])):\n",
    "        for z in range(len(image[x][y])):\n",
    "            t=image[x][y][z]\n",
    "            if not (t >10):\n",
    "                image[x][y]=[0,0,0]\n",
    "                xs.append(x)\n",
    "                ys.append(y)\n",
    "                c=c+1\n",
    "    \n",
    "#image.shape\n",
    "xt = np.asarray(xs)\n",
    "#print(xt.dtype)\n",
    "#print(xt)\n",
    "\n",
    "yt = np.array(ys)\n",
    "#print(yt.dtype)\n",
    "#print(yt)\n",
    "#center = Point(xt,yt);\n",
    "x_f=np.mean(xt)\n",
    "y_f=np.mean(yt)\n",
    "cv2.circle(image, (int(x_f), int(y_f)), 5, (255, 0, 0), -1)\n",
    "cv2.imshow('Contours', image) \n",
    "cv2.waitKey(0) \n",
    "cv2.destroyAllWindows() \n"
   ]
  },
  {
   "cell_type": "code",
   "execution_count": 33,
   "metadata": {},
   "outputs": [],
   "source": [
    "cv2.imshow(\"i\",image)\n",
    "cv2.waitKey()\n",
    "cv2.destroyAllWindows()\n",
    "\n"
   ]
  },
  {
   "cell_type": "code",
   "execution_count": null,
   "metadata": {},
   "outputs": [],
   "source": [
    "np.median(xt)"
   ]
  },
  {
   "cell_type": "code",
   "execution_count": null,
   "metadata": {},
   "outputs": [],
   "source": [
    "x,y,z=zip(image[0][0])\n",
    "print(x,y,z)"
   ]
  },
  {
   "cell_type": "code",
   "execution_count": null,
   "metadata": {},
   "outputs": [],
   "source": [
    "image[0].shape"
   ]
  },
  {
   "cell_type": "code",
   "execution_count": 9,
   "metadata": {},
   "outputs": [
    {
     "name": "stdout",
     "output_type": "stream",
     "text": [
      "<class 'list'>\n"
     ]
    }
   ],
   "source": [
    "print(type(contours))"
   ]
  },
  {
   "cell_type": "code",
   "execution_count": null,
   "metadata": {},
   "outputs": [],
   "source": []
  },
  {
   "cell_type": "code",
   "execution_count": null,
   "metadata": {},
   "outputs": [],
   "source": []
  }
 ],
 "metadata": {
  "kernelspec": {
   "display_name": "Python 3",
   "language": "python",
   "name": "python3"
  },
  "language_info": {
   "codemirror_mode": {
    "name": "ipython",
    "version": 3
   },
   "file_extension": ".py",
   "mimetype": "text/x-python",
   "name": "python",
   "nbconvert_exporter": "python",
   "pygments_lexer": "ipython3",
   "version": "3.7.3"
  }
 },
 "nbformat": 4,
 "nbformat_minor": 2
}
