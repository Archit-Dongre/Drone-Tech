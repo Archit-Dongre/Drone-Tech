{
 "cells": [
  {
   "cell_type": "code",
   "execution_count": 23,
   "metadata": {},
   "outputs": [
    {
     "name": "stdout",
     "output_type": "stream",
     "text": [
      "Number of Contours found = 7\n"
     ]
    }
   ],
   "source": [
    "import cv2 \n",
    "import numpy as np \n",
    "\n",
    "# Let's load a simple image with 3 black squares \n",
    "image = cv2.imread('disparity.png') \n",
    "cv2.waitKey(0) \n",
    "\n",
    "# Grayscale \n",
    "gray = cv2.cvtColor(image, cv2.COLOR_BGR2GRAY) \n",
    "\n",
    "# Find Canny edges \n",
    "edged = cv2.Canny(gray, 30, 200) \n",
    "cv2.waitKey(0) \n",
    "\n",
    "# Finding Contours \n",
    "# Use a copy of the image e.g. edged.copy() \n",
    "# since findContours alters the image \n",
    "contours, hierarchy = cv2.findContours(edged, \n",
    "\tcv2.RETR_EXTERNAL, cv2.CHAIN_APPROX_NONE) \n",
    "\n",
    "cv2.imshow('Canny Edges After Contouring', edged) \n",
    "cv2.waitKey(0) \n",
    "\n",
    "print(\"Number of Contours found = \" + str(len(contours))) \n",
    "\n",
    "# Draw all contours \n",
    "# -1 signifies drawing all contours \n",
    "cv2.drawContours(image, contours, -1, (0, 255, 0), 3) \n",
    "\n",
    "cv2.imshow('Contours', image) \n",
    "cv2.waitKey(0) \n",
    "cv2.destroyAllWindows() \n"
   ]
  },
  {
   "cell_type": "code",
   "execution_count": 24,
   "metadata": {},
   "outputs": [
    {
     "name": "stdout",
     "output_type": "stream",
     "text": [
      "int32\n",
      "[[  0   0   0 ... 192 193 193]]\n",
      "int32\n",
      "[[  0   0   0 ... 258 258 258]]\n"
     ]
    },
    {
     "data": {
      "text/plain": [
       "\"cv2.circle(image, (int(xt), int(yt)), 5, (255, 0, 0), -1)\\ncv2.imshow('Contours', image) \\ncv2.waitKey(0) \\ncv2.destroyAllWindows() \""
      ]
     },
     "execution_count": 24,
     "metadata": {},
     "output_type": "execute_result"
    }
   ],
   "source": [
    "xs=[]\n",
    "ys=[]\n",
    "c=0\n",
    "for x in range(len(image)):\n",
    "    for y in range(len(image[x])):\n",
    "        for z in range(len(image[x][y])):\n",
    "            if not (image[x][y][z]>100):\n",
    "                image[x][y][z]=200\n",
    "                xs.append(x)\n",
    "                ys.append(y)\n",
    "                c=c+1\n",
    "    \n",
    "#image.shape\n",
    "xt = np.array([sorted(xs)])\n",
    "print(xt.dtype)\n",
    "print(xt)\n",
    "\n",
    "yt = np.array([sorted(ys)])\n",
    "print(yt.dtype)\n",
    "print(yt)\n",
    "#center = Point(xt,yt);\n",
    "\"\"\"cv2.circle(image, (int(xt), int(yt)), 5, (255, 0, 0), -1)\n",
    "cv2.imshow('Contours', image) \n",
    "cv2.waitKey(0) \n",
    "cv2.destroyAllWindows() \"\"\"\n"
   ]
  },
  {
   "cell_type": "code",
   "execution_count": 3,
   "metadata": {},
   "outputs": [
    {
     "name": "stdout",
     "output_type": "stream",
     "text": [
      "(200,) (200,) (200,)\n"
     ]
    }
   ],
   "source": [
    "x,y,z=zip(image[0][0])\n",
    "print(x,y,z)"
   ]
  },
  {
   "cell_type": "code",
   "execution_count": 28,
   "metadata": {},
   "outputs": [
    {
     "data": {
      "text/plain": [
       "(259, 3)"
      ]
     },
     "execution_count": 28,
     "metadata": {},
     "output_type": "execute_result"
    }
   ],
   "source": [
    "image[0].shape"
   ]
  },
  {
   "cell_type": "code",
   "execution_count": null,
   "metadata": {},
   "outputs": [],
   "source": []
  }
 ],
 "metadata": {
  "kernelspec": {
   "display_name": "Python 3",
   "language": "python",
   "name": "python3"
  },
  "language_info": {
   "codemirror_mode": {
    "name": "ipython",
    "version": 3
   },
   "file_extension": ".py",
   "mimetype": "text/x-python",
   "name": "python",
   "nbconvert_exporter": "python",
   "pygments_lexer": "ipython3",
   "version": "3.7.3"
  }
 },
 "nbformat": 4,
 "nbformat_minor": 2
}
