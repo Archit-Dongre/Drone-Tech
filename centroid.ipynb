{
 "cells": [
  {
   "cell_type": "code",
   "execution_count": null,
   "metadata": {},
   "outputs": [],
   "source": [
    "import airsim\n",
    "import numpy as np\n",
    "import cv2\n",
    "import imutils\n",
    "import matplotlib.pyplot as plt\n",
    "\n",
    "# connect to the AirSim simulator\n",
    "client = airsim.MultirotorClient()\n",
    "client.confirmConnection()\n",
    "client.enableApiControl(True)\n",
    "client.armDisarm(True)"
   ]
  },
  {
   "cell_type": "code",
   "execution_count": null,
   "metadata": {},
   "outputs": [],
   "source": [
    "def move(img_rgb):\n",
    "    image=img_rgb\n",
    "    gray = cv2.cvtColor(image, cv2.COLOR_BGR2GRAY)\n",
    "    blurred = cv2.GaussianBlur(gray, (5, 5), 0)\n",
    "    thresh = cv2.threshold(blurred, 60, 255, cv2.THRESH_BINARY_INV)[1]\n",
    "    cnts = cv2.findContours(thresh.copy(), cv2.RETR_EXTERNAL,\n",
    "        cv2.CHAIN_APPROX_SIMPLE)\n",
    "    cnts = imutils.grab_contours(cnts)\n",
    "    for c in cnts:\n",
    "    # compute the center of the contour\n",
    "        M = cv2.moments(c)\n",
    "        cX = int(M[\"m10\"] / M[\"m00\"])\n",
    "        cY = int(M[\"m01\"] / M[\"m00\"])\n",
    "        l = [cX,cY]\n",
    "        return l\n",
    "    \n",
    "\n",
    "client.takeoffAsync().join()\n",
    "client.moveToPositionAsync(-10,-10, -10, 5).join()\n",
    "#client.moveToPositionAsync(-5, 10, -10, 5).join()\n",
    "\n",
    "responses = client.simGetImages([airsim.ImageRequest(\"0\",airsim.ImageType.DepthVis,False,False)])\n",
    "response = responses[0]\n",
    "img1d = np.frombuffer(response.image_data_uint8, dtype=np.uint8)\n",
    "img_rgb = img1d.reshape(response.height, response.width, 3)\n",
    "while(true):\n",
    "    # ret, frame = cap.read()\n",
    "    c=move(img_rgb)\n",
    "    cx,cy = c[0],c[1]\n",
    "    client.moveToPositionAsync(cx, cy, -10, 5).join()\n",
    "    break\n",
    "    \n"
   ]
  }
 ],
 "metadata": {
  "kernelspec": {
   "display_name": "Python 3",
   "language": "python",
   "name": "python3"
  }
 },
 "nbformat": 4,
 "nbformat_minor": 2
}
